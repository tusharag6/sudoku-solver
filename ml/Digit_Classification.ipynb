{
 "cells": [
  {
   "cell_type": "code",
   "execution_count": 2,
   "metadata": {},
   "outputs": [],
   "source": [
    "import numpy as np\n",
    "import cv2\n",
    "import os\n",
    "from sklearn.model_selection import train_test_split\n",
    "import matplotlib.pyplot as plt"
   ]
  },
  {
   "cell_type": "code",
   "execution_count": 3,
   "metadata": {},
   "outputs": [],
   "source": [
    "path='datasets/'\n",
    "list=os.listdir(path)\n",
    "noofdigits=len(list)\n",
    "image=[]\n",
    "digitno=[]"
   ]
  },
  {
   "cell_type": "code",
   "execution_count": 4,
   "metadata": {},
   "outputs": [
    {
     "name": "stdout",
     "output_type": "stream",
     "text": [
      "0 1 2 3 4 5 6 7 8 9  \n"
     ]
    }
   ],
   "source": [
    "for i in range(0,noofdigits):\n",
    "  mypiclist=os.listdir(path+'/'+str(i))\n",
    "  for j in mypiclist:\n",
    "    curImg=cv2.imread(path+'/'+str(i)+'/'+j)\n",
    "    curImg=cv2.resize(curImg,(32,32))\n",
    "    image.append(curImg)\n",
    "    digitno.append(i)\n",
    "  print(i,end=\" \")\n",
    "print(\" \")"
   ]
  },
  {
   "cell_type": "code",
   "execution_count": 5,
   "metadata": {},
   "outputs": [
    {
     "name": "stdout",
     "output_type": "stream",
     "text": [
      "(1560, 32, 32, 3)\n",
      "(1560,)\n"
     ]
    }
   ],
   "source": [
    "images=np.array(image)\n",
    "digitnos=np.array(digitno)\n",
    "print (images.shape)\n",
    "print(digitnos.shape)"
   ]
  },
  {
   "cell_type": "code",
   "execution_count": 13,
   "metadata": {},
   "outputs": [
    {
     "name": "stdout",
     "output_type": "stream",
     "text": [
      "(998, 32, 32, 3)\n",
      "(312, 32, 32, 3)\n",
      "(250, 32, 32, 3)\n",
      "[91, 100, 95, 99, 102, 103, 104, 103, 103, 98]\n"
     ]
    }
   ],
   "source": [
    "X_train,X_test,y_train,y_test=train_test_split(images,digitnos,test_size=0.2)\n",
    "X_train,X_Validation,y_train,y_validation=train_test_split(X_train,y_train,test_size=0.2)\n",
    "print(X_train.shape)\n",
    "print(X_test.shape)\n",
    "print(X_Validation.shape)\n",
    "Samples=[]\n",
    "for i in range(0,noofdigits):\n",
    "  Samples.append(len(np.where(y_train==i)[0]))  \n",
    "print(Samples)\n"
   ]
  },
  {
   "cell_type": "code",
   "execution_count": 14,
   "metadata": {},
   "outputs": [
    {
     "data": {
      "image/png": "[encoded data removed]",
      "text/plain": [
       "<Figure size 1000x500 with 1 Axes>"
      ]
     },
     "metadata": {},
     "output_type": "display_data"
    }
   ],
   "source": [
    "plt.figure(figsize=(10,5))\n",
    "plt.bar(range(0,noofdigits),Samples)\n",
    "plt.title(\"No of Images\")\n",
    "plt.xlabel(\"Digits\")\n",
    "plt.ylabel(\"No of images\")\n",
    "plt.show()"
   ]
  },
  {
   "cell_type": "code",
   "execution_count": 8,
   "metadata": {},
   "outputs": [
    {
     "data": {
      "text/plain": [
       "-1"
      ]
     },
     "execution_count": 8,
     "metadata": {},
     "output_type": "execute_result"
    }
   ],
   "source": [
    "def preprocessing(img):\n",
    "  img=cv2.cvtColor(img,cv2.COLOR_BGR2GRAY)\n",
    "  img=cv2.equalizeHist(img)\n",
    "  img=img/255\n",
    "  return img\n",
    "img=preprocessing(X_train[30])"
   ]
  },
  {
   "cell_type": "code",
   "execution_count": 10,
   "metadata": {},
   "outputs": [
    {
     "ename": "TypeError",
     "evalue": "'list' object is not callable",
     "output_type": "error",
     "traceback": [
      "\u001b[1;31m---------------------------------------------------------------------------\u001b[0m",
      "\u001b[1;31mTypeError\u001b[0m                                 Traceback (most recent call last)",
      "\u001b[1;32mc:\\Users\\asifa\\OneDrive\\Desktop\\Projects\\sudoku-solver\\ml\\Digit_Classification.ipynb Cell 8\u001b[0m line \u001b[0;36m1\n\u001b[1;32m----> <a href='vscode-notebook-cell:/c%3A/Users/asifa/OneDrive/Desktop/Projects/sudoku-solver/ml/Digit_Classification.ipynb#X10sZmlsZQ%3D%3D?line=0'>1</a>\u001b[0m X_train\u001b[39m=\u001b[39m np\u001b[39m.\u001b[39marray(\u001b[39mlist\u001b[39;49m(\u001b[39mmap\u001b[39;49m(preprocessing,X_train)))\n\u001b[0;32m      <a href='vscode-notebook-cell:/c%3A/Users/asifa/OneDrive/Desktop/Projects/sudoku-solver/ml/Digit_Classification.ipynb#X10sZmlsZQ%3D%3D?line=1'>2</a>\u001b[0m X_test\u001b[39m=\u001b[39m np\u001b[39m.\u001b[39marray(\u001b[39mlist\u001b[39m(\u001b[39mmap\u001b[39m(preprocessing,X_test)))\n\u001b[0;32m      <a href='vscode-notebook-cell:/c%3A/Users/asifa/OneDrive/Desktop/Projects/sudoku-solver/ml/Digit_Classification.ipynb#X10sZmlsZQ%3D%3D?line=2'>3</a>\u001b[0m X_validation\u001b[39m=\u001b[39m np\u001b[39m.\u001b[39marray(\u001b[39mlist\u001b[39m(\u001b[39mmap\u001b[39m(preprocessing,X_Validation)))\n",
      "\u001b[1;31mTypeError\u001b[0m: 'list' object is not callable"
     ]
    }
   ],
   "source": [
    "# X_train= np.array(list(map(preprocessing,X_train)))\n",
    "# X_test= np.array(list(map(preprocessing,X_test)))\n",
    "# X_validation= np.array(list(map(preprocessing,X_Validation)))\n",
    "\n"
   ]
  }
 ],
 "metadata": {
  "kernelspec": {
   "display_name": "Python 3",
   "language": "python",
   "name": "python3"
  },
  "language_info": {
   "codemirror_mode": {
    "name": "ipython",
    "version": 3
   },
   "file_extension": ".py",
   "mimetype": "text/x-python",
   "name": "python",
   "nbconvert_exporter": "python",
   "pygments_lexer": "ipython3",
   "version": "3.11.5"
  }
 },
 "nbformat": 4,
 "nbformat_minor": 2
}
