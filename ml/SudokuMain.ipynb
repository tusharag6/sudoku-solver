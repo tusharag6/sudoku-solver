{
 "cells": [
  {
   "cell_type": "code",
   "execution_count": 9,
   "metadata": {},
   "outputs": [],
   "source": [
    "import cv2\n",
    "import os\n",
    "import numpy as np"
   ]
  },
  {
   "cell_type": "markdown",
   "metadata": {},
   "source": [
    "Image Extraction and Processing\n"
   ]
  },
  {
   "cell_type": "code",
   "execution_count": 10,
   "metadata": {},
   "outputs": [
    {
     "data": {
      "text/plain": [
       "True"
      ]
     },
     "execution_count": 10,
     "metadata": {},
     "output_type": "execute_result"
    }
   ],
   "source": [
    "img = cv2.imread(\"./images/img_3.jpg\")\n",
    "img = cv2.resize(img, (450, 450))\n",
    "img_gray = cv2.cvtColor(img, cv2.COLOR_BGR2GRAY)\n",
    "img_blur = cv2.GaussianBlur(img_gray, (5, 5), 1)\n",
    "img_threshold = cv2.adaptiveThreshold(img_blur, 255, 1, 1, 11, 2)\n",
    "output_path = os.path.join(\"images\", \"processed_image.jpg\")\n",
    "cv2.imwrite(output_path, img_threshold)"
   ]
  },
  {
   "cell_type": "markdown",
   "metadata": {},
   "source": [
    "Contour Mapping\n"
   ]
  },
  {
   "cell_type": "code",
   "execution_count": 11,
   "metadata": {
    "is_executing": true
   },
   "outputs": [],
   "source": [
    "imgcontour = img.copy()\n",
    "imgBigContour = img.copy()\n",
    "contours, hierarchy = cv2.findContours(\n",
    "    img_threshold, cv2.RETR_EXTERNAL, cv2.CHAIN_APPROX_SIMPLE)\n",
    "cv2.drawContours(imgcontour, contours, -1, (0, 255, 0), 3)\n",
    "cv2.imshow(\"Sudoku\", imgcontour)\n",
    "cv2.waitKey(0)\n",
    "cv2.destroyAllWindows()"
   ]
  },
  {
   "cell_type": "markdown",
   "metadata": {},
   "source": [
    "BiggestContour\n"
   ]
  },
  {
   "cell_type": "code",
   "execution_count": 12,
   "metadata": {},
   "outputs": [],
   "source": [
    "def biggestContour(contours):\n",
    "    biggest = np.array([])\n",
    "    max_area = 0\n",
    "    for i in contours:\n",
    "        area = cv2.contourArea(i)\n",
    "        if area > 50:\n",
    "            peri = cv2.arcLength(i, True)\n",
    "            approx = cv2.approxPolyDP(i, 0.02*peri, True)\n",
    "            if area > max_area and len(approx) == 4:\n",
    "                biggest = approx\n",
    "                max_area = area\n",
    "    return biggest, max_area"
   ]
  },
  {
   "cell_type": "code",
   "execution_count": 13,
   "metadata": {},
   "outputs": [],
   "source": [
    "def reorder(points):\n",
    "    points = points.reshape((4, 2))\n",
    "    points_new = np.zeros((4, 1, 2), np.int32)\n",
    "    add = points.sum(1)\n",
    "    points_new[0] = points[np.argmin(add)]\n",
    "    points_new[3] = points[np.argmax(add)]\n",
    "    diff = np.diff(points, axis=1)\n",
    "    points_new[1] = points[np.argmin(diff)]\n",
    "    points_new[2] = points[np.argmax(diff)]\n",
    "    return points_new"
   ]
  },
  {
   "cell_type": "code",
   "execution_count": 14,
   "metadata": {},
   "outputs": [],
   "source": [
    "biggest, maxArea = biggestContour(contours)\n",
    "if biggest.size != 0:\n",
    "    biggest = reorder(biggest)\n",
    "    cv2.drawContours(imgBigContour, biggest, -1, (0, 255, 0), 20)\n",
    "    pts1 = np.float32(biggest)\n",
    "    pts2 = np.float32([[0, 0], [450, 0], [0, 450], [450, 450]])\n",
    "    matrix = cv2.getPerspectiveTransform(pts1, pts2)\n",
    "    imgWarpColored = cv2.warpPerspective(img, matrix, (450, 450))\n",
    "    imgDetectedDigits = imgWarpColored.copy()\n",
    "    imgWarpGray = cv2.cvtColor(imgWarpColored, cv2.COLOR_BGR2GRAY)\n",
    "    cv2.imshow(\"Sudoku\", imgWarpColored)\n",
    "    cv2.waitKey(0)\n",
    "    cv2.destroyAllWindows()"
   ]
  },
  {
   "cell_type": "code",
   "execution_count": 15,
   "metadata": {},
   "outputs": [],
   "source": [
    "def splitBoxes(img):\n",
    "    rows = np.vsplit(img, 9)\n",
    "    boxes = []\n",
    "    for r in rows:\n",
    "        cols = np.hsplit(r, 9)\n",
    "        for box in cols:\n",
    "            boxes.append(box)\n",
    "    return boxes"
   ]
  },
  {
   "cell_type": "code",
   "execution_count": 16,
   "metadata": {},
   "outputs": [],
   "source": [
    "boxes = splitBoxes(imgWarpGray)\n",
    "cv2.imshow(\"Sudoku\", boxes[4])\n",
    "cv2.waitKey(0)\n",
    "cv2.destroyAllWindows()"
   ]
  }
 ],
 "metadata": {
  "kernelspec": {
   "display_name": "Python 3",
   "language": "python",
   "name": "python3"
  },
  "language_info": {
   "codemirror_mode": {
    "name": "ipython",
    "version": 3
   },
   "file_extension": ".py",
   "mimetype": "text/x-python",
   "name": "python",
   "nbconvert_exporter": "python",
   "pygments_lexer": "ipython3",
   "version": "3.11.5"
  }
 },
 "nbformat": 4,
 "nbformat_minor": 2
}
