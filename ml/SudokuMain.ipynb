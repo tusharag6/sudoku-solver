{
 "cells": [
  {
   "cell_type": "code",
   "execution_count": 36,
   "metadata": {},
   "outputs": [],
   "source": [
    "\n",
    "import cv2\n",
    "import os\n",
    "import numpy as np\n",
    "from tensorflow.keras.models import load_model\n"
   ]
  },
  {
   "cell_type": "markdown",
   "metadata": {},
   "source": [
    "Image Extraction and Processing\n"
   ]
  },
  {
   "cell_type": "code",
   "execution_count": 2,
   "metadata": {},
   "outputs": [
    {
     "data": {
      "text/plain": [
       "True"
      ]
     },
     "execution_count": 2,
     "metadata": {},
     "output_type": "execute_result"
    }
   ],
   "source": [
    "img = cv2.imread(\"./images/img_3.jpg\")\n",
    "img = cv2.resize(img, (450, 450))\n",
    "img_gray = cv2.cvtColor(img, cv2.COLOR_BGR2GRAY)\n",
    "img_blur = cv2.GaussianBlur(img_gray, (5, 5), 1)\n",
    "img_threshold = cv2.adaptiveThreshold(img_blur, 255, 1, 1, 11, 2)\n",
    "output_path = os.path.join(\"images\", \"processed_image.jpg\")\n",
    "cv2.imwrite(output_path, img_threshold)"
   ]
  },
  {
   "cell_type": "markdown",
   "metadata": {},
   "source": [
    "Contour Mapping\n"
   ]
  },
  {
   "cell_type": "code",
   "execution_count": 3,
   "metadata": {
    "is_executing": true
   },
   "outputs": [],
   "source": [
    "imgcontour = img.copy()\n",
    "imgBigContour = img.copy()\n",
    "contours, hierarchy = cv2.findContours(\n",
    "    img_threshold, cv2.RETR_EXTERNAL, cv2.CHAIN_APPROX_SIMPLE)\n",
    "cv2.drawContours(imgcontour, contours, -1, (0, 255, 0), 3)\n",
    "cv2.imshow(\"Sudoku\", imgcontour)\n",
    "cv2.waitKey(0)\n",
    "cv2.destroyAllWindows()"
   ]
  },
  {
   "cell_type": "markdown",
   "metadata": {},
   "source": [
    "BiggestContour\n"
   ]
  },
  {
   "cell_type": "code",
   "execution_count": 4,
   "metadata": {},
   "outputs": [],
   "source": [
    "def biggestContour(contours):\n",
    "    biggest = np.array([])\n",
    "    max_area = 0\n",
    "    for i in contours:\n",
    "        area = cv2.contourArea(i)\n",
    "        if area > 50:\n",
    "            peri = cv2.arcLength(i, True)\n",
    "            approx = cv2.approxPolyDP(i, 0.02*peri, True)\n",
    "            if area > max_area and len(approx) == 4:\n",
    "                biggest = approx\n",
    "                max_area = area\n",
    "    return biggest, max_area"
   ]
  },
  {
   "cell_type": "code",
   "execution_count": 5,
   "metadata": {},
   "outputs": [],
   "source": [
    "def reorder(points):\n",
    "    points = points.reshape((4, 2))\n",
    "    points_new = np.zeros((4, 1, 2), np.int32)\n",
    "    add = points.sum(1)\n",
    "    points_new[0] = points[np.argmin(add)]\n",
    "    points_new[3] = points[np.argmax(add)]\n",
    "    diff = np.diff(points, axis=1)\n",
    "    points_new[1] = points[np.argmin(diff)]\n",
    "    points_new[2] = points[np.argmax(diff)]\n",
    "    return points_new"
   ]
  },
  {
   "cell_type": "code",
   "execution_count": 6,
   "metadata": {},
   "outputs": [],
   "source": [
    "biggest, maxArea = biggestContour(contours)\n",
    "if biggest.size != 0:\n",
    "    biggest = reorder(biggest)\n",
    "    cv2.drawContours(imgBigContour, biggest, -1, (0, 255, 0), 20)\n",
    "    pts1 = np.float32(biggest)\n",
    "    pts2 = np.float32([[0, 0], [450, 0], [0, 450], [450, 450]])\n",
    "    matrix = cv2.getPerspectiveTransform(pts1, pts2)\n",
    "    imgWarpColored = cv2.warpPerspective(img, matrix, (450, 450))\n",
    "    imgDetectedDigits = imgWarpColored.copy()\n",
    "    imgWarpGray = cv2.cvtColor(imgWarpColored, cv2.COLOR_BGR2GRAY)\n",
    "    cv2.imshow(\"Sudoku\", imgWarpColored)\n",
    "    cv2.waitKey(0)\n",
    "    cv2.destroyAllWindows()"
   ]
  },
  {
   "cell_type": "code",
   "execution_count": 7,
   "metadata": {},
   "outputs": [],
   "source": [
    "def splitBoxes(img):\n",
    "    rows = np.vsplit(img, 9)\n",
    "    boxes = []\n",
    "    for r in rows:\n",
    "        cols = np.hsplit(r, 9)\n",
    "        for box in cols:\n",
    "            boxes.append(box)\n",
    "    return boxes"
   ]
  },
  {
   "cell_type": "code",
   "execution_count": 29,
   "metadata": {},
   "outputs": [],
   "source": [
    "model = tf.keras.models.load_model('models/myModel.h5')"
   ]
  },
  {
   "cell_type": "code",
   "execution_count": 24,
   "metadata": {},
   "outputs": [],
   "source": [
    "def getPredection(boxes, model):\n",
    "    result = []\n",
    "    for image in boxes:\n",
    "        img = np.asarray(image)\n",
    "        img = img[4:img.shape[0] - 4, 4:img.shape[1] - 4]\n",
    "        img = cv2.resize(img, (28, 28))\n",
    "        img = img / 255\n",
    "        img = img.reshape(1, 28, 28, 1)\n",
    "        predictions = model.predict(img)\n",
    "        # classIndex = model.predict_classes(img)\n",
    "        classindex = np.argmax(predictions, axis=-1)\n",
    "        probabilityValue = np.amax(predictions)\n",
    "        # print(classindex, probabilityValue)\n",
    "        if probabilityValue > 0.8:\n",
    "            result.append(classindex[0])\n",
    "        else:\n",
    "            result.append(0)\n",
    "    return result"
   ]
  },
  {
   "cell_type": "code",
   "execution_count": 30,
   "metadata": {},
   "outputs": [],
   "source": [
    "# def displayNumbers(img, numbers, color=(0, 255, 0)):\n",
    "#     secW = int(img.shape[1]/9)\n",
    "#     secH = int(img.shape[0]/9)\n",
    "#     for x in range(0, 9):\n",
    "#         for y in range(0, 9):\n",
    "#             if numbers[(y*9)+x] != 0:\n",
    "#                 cv2.putText(img, str(numbers[(y*9)+x]),\n",
    "#                             (x*secW+int(secW/2)-10, int((y+0.8)*secH)\n",
    "#                              ), cv2.FONT_HERSHEY_COMPLEX_SMALL,\n",
    "#                             2, color, 2, cv2.LINE_AA)\n",
    "#     return img"
   ]
  },
  {
   "cell_type": "code",
   "execution_count": 32,
   "metadata": {},
   "outputs": [
    {
     "name": "stdout",
     "output_type": "stream",
     "text": [
      "1/1 [==============================] - 0s 31ms/step\n",
      "1/1 [==============================] - 0s 31ms/step\n",
      "1/1 [==============================] - 0s 27ms/step\n",
      "1/1 [==============================] - 0s 29ms/step\n",
      "1/1 [==============================] - 0s 28ms/step\n",
      "1/1 [==============================] - 0s 30ms/step\n",
      "1/1 [==============================] - 0s 35ms/step\n",
      "1/1 [==============================] - 0s 40ms/step\n",
      "1/1 [==============================] - 0s 33ms/step\n",
      "1/1 [==============================] - 0s 35ms/step\n",
      "1/1 [==============================] - 0s 23ms/step\n",
      "1/1 [==============================] - 0s 27ms/step\n",
      "1/1 [==============================] - 0s 27ms/step\n",
      "1/1 [==============================] - 0s 23ms/step\n",
      "1/1 [==============================] - 0s 30ms/step\n",
      "1/1 [==============================] - 0s 26ms/step\n",
      "1/1 [==============================] - 0s 31ms/step\n",
      "1/1 [==============================] - 0s 25ms/step\n",
      "1/1 [==============================] - 0s 25ms/step\n",
      "1/1 [==============================] - 0s 26ms/step\n",
      "1/1 [==============================] - 0s 27ms/step\n",
      "1/1 [==============================] - 0s 24ms/step\n",
      "1/1 [==============================] - 0s 26ms/step\n",
      "1/1 [==============================] - 0s 25ms/step\n",
      "1/1 [==============================] - 0s 39ms/step\n",
      "1/1 [==============================] - 0s 26ms/step\n",
      "1/1 [==============================] - 0s 98ms/step\n",
      "1/1 [==============================] - 0s 30ms/step\n",
      "1/1 [==============================] - 0s 29ms/step\n",
      "1/1 [==============================] - 0s 32ms/step\n",
      "1/1 [==============================] - 0s 34ms/step\n",
      "1/1 [==============================] - 0s 27ms/step\n",
      "1/1 [==============================] - 0s 28ms/step\n",
      "1/1 [==============================] - 0s 30ms/step\n",
      "1/1 [==============================] - 0s 30ms/step\n",
      "1/1 [==============================] - 0s 29ms/step\n",
      "1/1 [==============================] - 0s 26ms/step\n",
      "1/1 [==============================] - 0s 30ms/step\n",
      "1/1 [==============================] - 0s 23ms/step\n",
      "1/1 [==============================] - 0s 27ms/step\n",
      "1/1 [==============================] - 0s 32ms/step\n",
      "1/1 [==============================] - 0s 33ms/step\n",
      "1/1 [==============================] - 0s 31ms/step\n",
      "1/1 [==============================] - 0s 28ms/step\n",
      "1/1 [==============================] - 0s 35ms/step\n",
      "1/1 [==============================] - 0s 33ms/step\n",
      "1/1 [==============================] - 0s 29ms/step\n",
      "1/1 [==============================] - 0s 23ms/step\n",
      "1/1 [==============================] - 0s 20ms/step\n",
      "1/1 [==============================] - 0s 24ms/step\n",
      "1/1 [==============================] - 0s 21ms/step\n",
      "1/1 [==============================] - 0s 24ms/step\n",
      "1/1 [==============================] - 0s 23ms/step\n",
      "1/1 [==============================] - 0s 23ms/step\n",
      "1/1 [==============================] - 0s 21ms/step\n",
      "1/1 [==============================] - 0s 23ms/step\n",
      "1/1 [==============================] - 0s 21ms/step\n",
      "1/1 [==============================] - 0s 23ms/step\n",
      "1/1 [==============================] - 0s 21ms/step\n",
      "1/1 [==============================] - 0s 20ms/step\n",
      "1/1 [==============================] - 0s 22ms/step\n",
      "1/1 [==============================] - 0s 20ms/step\n",
      "1/1 [==============================] - 0s 22ms/step\n",
      "1/1 [==============================] - 0s 21ms/step\n",
      "1/1 [==============================] - 0s 22ms/step\n",
      "1/1 [==============================] - 0s 20ms/step\n",
      "1/1 [==============================] - 0s 21ms/step\n",
      "1/1 [==============================] - 0s 21ms/step\n",
      "1/1 [==============================] - 0s 28ms/step\n",
      "1/1 [==============================] - 0s 27ms/step\n",
      "1/1 [==============================] - 0s 21ms/step\n",
      "1/1 [==============================] - 0s 21ms/step\n",
      "1/1 [==============================] - 0s 22ms/step\n",
      "1/1 [==============================] - 0s 22ms/step\n",
      "1/1 [==============================] - 0s 21ms/step\n",
      "1/1 [==============================] - 0s 21ms/step\n",
      "1/1 [==============================] - 0s 21ms/step\n",
      "1/1 [==============================] - 0s 20ms/step\n",
      "1/1 [==============================] - 0s 21ms/step\n",
      "1/1 [==============================] - 0s 22ms/step\n",
      "1/1 [==============================] - 0s 20ms/step\n",
      "[1, 0, 0, 0, 8, 0, 0, 0, 9, 0, 5, 0, 6, 0, 1, 0, 2, 0, 0, 0, 0, 5, 0, 3, 0, 0, 0, 0, 9, 4, 1, 0, 4, 8, 3, 0, 3, 0, 0, 0, 0, 0, 0, 0, 5, 0, 1, 5, 9, 0, 8, 4, 6, 0, 0, 0, 0, 7, 0, 5, 0, 0, 0, 0, 0, 0, 3, 0, 9, 0, 7, 0, 5, 0, 0, 0, 1, 0, 0, 0, 3]\n",
      "[0 1 1 1 0 1 1 1 0 1 0 1 0 1 0 1 0 1 1 1 1 0 1 0 1 1 1 1 0 0 0 1 0 0 0 1 0\n",
      " 1 1 1 1 1 1 1 0 1 0 0 0 1 0 0 0 1 1 1 1 0 1 0 1 1 1 1 1 1 0 1 0 1 0 1 0 1\n",
      " 1 1 0 1 1 1 0]\n"
     ]
    }
   ],
   "source": [
    "boxes = splitBoxes(imgWarpGray)\n",
    "numbers = getPredection(boxes, model)\n",
    "print(numbers)\n",
    "# imgDetectedDigits = displayNumbers(imgDetectedDigits, numbers, color=(255, 0, 255))\n",
    "numbers = np.asarray(numbers)\n",
    "posArray = np.where(numbers > 0, 0, 1)\n",
    "print(posArray)"
   ]
  },
  {
   "cell_type": "code",
   "execution_count": 47,
   "metadata": {},
   "outputs": [],
   "source": [
    "def solve(bo):\n",
    "    find = find_empty(bo)\n",
    "    if not find:\n",
    "        return True\n",
    "    else:\n",
    "        row, col = find\n",
    "    for i in range(1,10):\n",
    "        if valid(bo, i, (row, col)):\n",
    "            bo[row][col] = i\n",
    "            if solve(bo):\n",
    "                return True\n",
    "            bo[row][col] = 0\n",
    "    return False\n",
    "\n",
    "def valid(bo, num, pos):\n",
    "    # Check row\n",
    "    for i in range(len(bo[0])):\n",
    "        if bo[pos[0]][i] == num and pos[1] != i:\n",
    "            return False\n",
    "    # Check column\n",
    "    for i in range(len(bo)):\n",
    "        if bo[i][pos[1]] == num and pos[0] != i:\n",
    "            return False\n",
    "    # Check box\n",
    "    box_x = pos[1] // 3\n",
    "    box_y = pos[0] // 3\n",
    "    for i in range(box_y*3, box_y*3 + 3):\n",
    "        for j in range(box_x * 3, box_x*3 + 3):\n",
    "            if bo[i][j] == num and (i,j) != pos:\n",
    "                return False\n",
    "    return True\n",
    "\n",
    "def print_board(bo):\n",
    "    for i in range(len(bo)):\n",
    "        if i % 3 == 0 and i != 0:\n",
    "            print(\"- - - - - - - - - - - - - \")\n",
    "        for j in range(len(bo[0])):\n",
    "            if j % 3 == 0 and j != 0:\n",
    "                print(\" | \", end=\"\")\n",
    "            if j == 8:\n",
    "                print(bo[i][j])\n",
    "            else:\n",
    "                print(str(bo[i][j]) + \" \", end=\"\")\n",
    "\n",
    "def find_empty(bo):\n",
    "    for i in range(len(bo)):\n",
    "        for j in range(len(bo[0])):\n",
    "            if bo[i][j] == 0:\n",
    "                return (i, j)  # row, col\n",
    "    return None"
   ]
  },
  {
   "cell_type": "code",
   "execution_count": 49,
   "metadata": {},
   "outputs": [
    {
     "name": "stdout",
     "output_type": "stream",
     "text": [
      "[array([1, 0, 0, 0, 8, 0, 0, 0, 9], dtype=int64), array([0, 5, 0, 6, 0, 1, 0, 2, 0], dtype=int64), array([0, 0, 0, 5, 0, 3, 0, 0, 0], dtype=int64), array([0, 9, 4, 1, 0, 4, 8, 3, 0], dtype=int64), array([3, 0, 0, 0, 0, 0, 0, 0, 5], dtype=int64), array([0, 1, 5, 9, 0, 8, 4, 6, 0], dtype=int64), array([0, 0, 0, 7, 0, 5, 0, 0, 0], dtype=int64), array([0, 0, 0, 3, 0, 9, 0, 7, 0], dtype=int64), array([5, 0, 0, 0, 1, 0, 0, 0, 3], dtype=int64)]\n",
      "Solving...\n",
      "[array([1, 0, 0, 0, 8, 0, 0, 0, 9], dtype=int64), array([0, 5, 0, 6, 0, 1, 0, 2, 0], dtype=int64), array([0, 0, 0, 5, 0, 3, 0, 0, 0], dtype=int64), array([0, 9, 4, 1, 0, 4, 8, 3, 0], dtype=int64), array([3, 0, 0, 0, 0, 0, 0, 0, 5], dtype=int64), array([0, 1, 5, 9, 0, 8, 4, 6, 0], dtype=int64), array([0, 0, 0, 7, 0, 5, 0, 0, 0], dtype=int64), array([0, 0, 0, 3, 0, 9, 0, 7, 0], dtype=int64), array([5, 0, 0, 0, 1, 0, 0, 0, 3], dtype=int64)]\n"
     ]
    }
   ],
   "source": [
    "board = np.array_split(numbers, 9)\n",
    "print(board)\n",
    "try:\n",
    "    print(\"Solving...\")\n",
    "    solve(board)\n",
    "except:\n",
    "    pass\n",
    "print(board)"
   ]
  }
 ],
 "metadata": {
  "kernelspec": {
   "display_name": "Python 3",
   "language": "python",
   "name": "python3"
  },
  "language_info": {
   "codemirror_mode": {
    "name": "ipython",
    "version": 3
   },
   "file_extension": ".py",
   "mimetype": "text/x-python",
   "name": "python",
   "nbconvert_exporter": "python",
   "pygments_lexer": "ipython3",
   "version": "3.11.5"
  }
 },
 "nbformat": 4,
 "nbformat_minor": 2
}
